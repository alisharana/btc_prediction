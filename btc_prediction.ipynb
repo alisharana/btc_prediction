{
  "nbformat": 4,
  "nbformat_minor": 0,
  "metadata": {
    "colab": {
      "name": "btc_prediction.ipynb",
      "provenance": [],
      "collapsed_sections": [],
      "include_colab_link": true
    },
    "kernelspec": {
      "name": "python3",
      "display_name": "Python 3"
    },
    "accelerator": "GPU"
  },
  "cells": [
    {
      "cell_type": "markdown",
      "metadata": {
        "id": "view-in-github",
        "colab_type": "text"
      },
      "source": [
        "<a href=\"https://colab.research.google.com/github/alisharana/btc_prediction/blob/main/btc_prediction.ipynb\" target=\"_parent\"><img src=\"https://colab.research.google.com/assets/colab-badge.svg\" alt=\"Open In Colab\"/></a>"
      ]
    },
    {
      "cell_type": "code",
      "metadata": {
        "colab": {
          "base_uri": "https://localhost:8080/"
        },
        "id": "iwMpI9ryoQyE",
        "outputId": "1664bce2-ec1d-41ea-c8c4-e2929b5f9e70"
      },
      "source": [
        "from google.colab import drive\n",
        "drive.mount('/content/drive')"
      ],
      "execution_count": null,
      "outputs": [
        {
          "output_type": "stream",
          "text": [
            "Mounted at /content/drive\n"
          ],
          "name": "stdout"
        }
      ]
    },
    {
      "cell_type": "code",
      "metadata": {
        "id": "VBXq-Wb_K1XR"
      },
      "source": [
        "#import os\n",
        "import numpy as np\n",
        "import tensorflow as tf\n",
        "from tensorflow import keras\n",
        "import pandas as pd\n",
        "#import seaborn as sns\n",
        "#from pylab import rcParams\n",
        "import matplotlib.pyplot as plt\n",
        "#from matplotlib import rc\n",
        "from sklearn.preprocessing import MinMaxScaler\n",
        "from tensorflow.keras.layers import Bidirectional, Dropout, Activation, Dense, LSTM\n",
        "from tensorflow.python.keras.layers import CuDNNLSTM\n",
        "from tensorflow.keras.models import Sequential\n",
        "\n",
        "#%matplotlib inline\n",
        "\n",
        "#sns.set(style='whitegrid', palette='muted', font_scale=1.5)\n",
        "\n",
        "#rcParams['figure.figsize'] = 14, 8\n",
        "\n",
        "#RANDOM_SEED = 42\n",
        "\n",
        "#np.random.seed(RANDOM_SEED)"
      ],
      "execution_count": null,
      "outputs": []
    },
    {
      "cell_type": "code",
      "metadata": {
        "id": "y5o6dHO2LLz-"
      },
      "source": [
        "# Data comes from:\n",
        "# https://finance.yahoo.com/quote/BTC-USD/history?period1=1279314000&period2=1556053200&interval=1d&filter=history&frequency=1d\n",
        "\n",
        "csv_path = \"/content/drive/MyDrive/BTC .csv\"\n",
        "# csv_path = \"https://raw.githubusercontent.com/curiousily/Deep-Learning-For-Hackers/master/data/3.stock-prediction/AAPL.csv\""
      ],
      "execution_count": null,
      "outputs": []
    },
    {
      "cell_type": "code",
      "metadata": {
        "id": "BnuBLC5DLjXH"
      },
      "source": [
        "df = pd.read_csv(csv_path, parse_dates=['Date'])"
      ],
      "execution_count": null,
      "outputs": []
    },
    {
      "cell_type": "code",
      "metadata": {
        "id": "kqMRRLeTLk_P"
      },
      "source": [
        "df = df.sort_values('Date')"
      ],
      "execution_count": null,
      "outputs": []
    },
    {
      "cell_type": "code",
      "metadata": {
        "id": "mU4B3eNtLpgH",
        "colab": {
          "base_uri": "https://localhost:8080/",
          "height": 204
        },
        "outputId": "e889a071-e512-4ed3-b100-043faac67266"
      },
      "source": [
        "df.head()"
      ],
      "execution_count": null,
      "outputs": [
        {
          "output_type": "execute_result",
          "data": {
            "text/html": [
              "<div>\n",
              "<style scoped>\n",
              "    .dataframe tbody tr th:only-of-type {\n",
              "        vertical-align: middle;\n",
              "    }\n",
              "\n",
              "    .dataframe tbody tr th {\n",
              "        vertical-align: top;\n",
              "    }\n",
              "\n",
              "    .dataframe thead th {\n",
              "        text-align: right;\n",
              "    }\n",
              "</style>\n",
              "<table border=\"1\" class=\"dataframe\">\n",
              "  <thead>\n",
              "    <tr style=\"text-align: right;\">\n",
              "      <th></th>\n",
              "      <th>Date</th>\n",
              "      <th>Open</th>\n",
              "      <th>High</th>\n",
              "      <th>Low</th>\n",
              "      <th>Close</th>\n",
              "      <th>Volume</th>\n",
              "      <th>Market Cap</th>\n",
              "    </tr>\n",
              "  </thead>\n",
              "  <tbody>\n",
              "    <tr>\n",
              "      <th>1489</th>\n",
              "      <td>2016-12-02</td>\n",
              "      <td>757.54</td>\n",
              "      <td>781.30</td>\n",
              "      <td>757.54</td>\n",
              "      <td>777.94</td>\n",
              "      <td>127605000</td>\n",
              "      <td>1.246294e+10</td>\n",
              "    </tr>\n",
              "    <tr>\n",
              "      <th>1488</th>\n",
              "      <td>2016-12-03</td>\n",
              "      <td>778.25</td>\n",
              "      <td>778.25</td>\n",
              "      <td>764.86</td>\n",
              "      <td>771.16</td>\n",
              "      <td>69547296</td>\n",
              "      <td>1.235581e+10</td>\n",
              "    </tr>\n",
              "    <tr>\n",
              "      <th>1487</th>\n",
              "      <td>2016-12-04</td>\n",
              "      <td>771.64</td>\n",
              "      <td>773.87</td>\n",
              "      <td>768.16</td>\n",
              "      <td>773.87</td>\n",
              "      <td>60557900</td>\n",
              "      <td>1.240077e+10</td>\n",
              "    </tr>\n",
              "    <tr>\n",
              "      <th>1486</th>\n",
              "      <td>2016-12-05</td>\n",
              "      <td>773.39</td>\n",
              "      <td>773.47</td>\n",
              "      <td>751.71</td>\n",
              "      <td>758.70</td>\n",
              "      <td>106363000</td>\n",
              "      <td>1.215912e+10</td>\n",
              "    </tr>\n",
              "    <tr>\n",
              "      <th>1485</th>\n",
              "      <td>2016-12-06</td>\n",
              "      <td>758.72</td>\n",
              "      <td>765.62</td>\n",
              "      <td>758.72</td>\n",
              "      <td>764.22</td>\n",
              "      <td>116218000</td>\n",
              "      <td>1.224909e+10</td>\n",
              "    </tr>\n",
              "  </tbody>\n",
              "</table>\n",
              "</div>"
            ],
            "text/plain": [
              "           Date    Open    High     Low   Close     Volume    Market Cap\n",
              "1489 2016-12-02  757.54  781.30  757.54  777.94  127605000  1.246294e+10\n",
              "1488 2016-12-03  778.25  778.25  764.86  771.16   69547296  1.235581e+10\n",
              "1487 2016-12-04  771.64  773.87  768.16  773.87   60557900  1.240077e+10\n",
              "1486 2016-12-05  773.39  773.47  751.71  758.70  106363000  1.215912e+10\n",
              "1485 2016-12-06  758.72  765.62  758.72  764.22  116218000  1.224909e+10"
            ]
          },
          "metadata": {
            "tags": []
          },
          "execution_count": 7
        }
      ]
    },
    {
      "cell_type": "code",
      "metadata": {
        "id": "t-xB1zK0C0mG",
        "colab": {
          "base_uri": "https://localhost:8080/"
        },
        "outputId": "10a851cf-2c43-457f-b492-2c738e6776d9"
      },
      "source": [
        "df.shape"
      ],
      "execution_count": null,
      "outputs": [
        {
          "output_type": "execute_result",
          "data": {
            "text/plain": [
              "(1490, 7)"
            ]
          },
          "metadata": {
            "tags": []
          },
          "execution_count": 8
        }
      ]
    },
    {
      "cell_type": "code",
      "metadata": {
        "id": "4XyoR5lG3Jxv",
        "colab": {
          "base_uri": "https://localhost:8080/",
          "height": 299
        },
        "outputId": "2b643095-1117-4554-c2ab-0a82e5418438"
      },
      "source": [
        "ax = df.plot(x='Date', y='Close');\n",
        "ax.set_xlabel(\"Date\")\n",
        "ax.set_ylabel(\"Close Price (USD)\")"
      ],
      "execution_count": null,
      "outputs": [
        {
          "output_type": "execute_result",
          "data": {
            "text/plain": [
              "Text(0, 0.5, 'Close Price (USD)')"
            ]
          },
          "metadata": {
            "tags": []
          },
          "execution_count": 9
        },
        {
          "output_type": "display_data",
          "data": {
            "image/png": "[encoded data removed]",
            "text/plain": [
              "<Figure size 432x288 with 1 Axes>"
            ]
          },
          "metadata": {
            "tags": [],
            "needs_background": "light"
          }
        }
      ]
    },
    {
      "cell_type": "code",
      "metadata": {
        "id": "V2THYksNOsTi"
      },
      "source": [
        "df['Date'] = pd.to_datetime(df['Date'])"
      ],
      "execution_count": null,
      "outputs": []
    },
    {
      "cell_type": "code",
      "metadata": {
        "id": "obWtNQ50O_Os"
      },
      "source": [
        "df.set_index('Date', inplace=True)"
      ],
      "execution_count": null,
      "outputs": []
    },
    {
      "cell_type": "code",
      "metadata": {
        "id": "a8WsSg6WNjS4"
      },
      "source": [
        "df = df.astype('float32')"
      ],
      "execution_count": null,
      "outputs": []
    },
    {
      "cell_type": "markdown",
      "metadata": {
        "id": "7twAH-I-qO9Z"
      },
      "source": [
        "# Normalization"
      ]
    },
    {
      "cell_type": "code",
      "metadata": {
        "id": "Ux2FtgMAqObq"
      },
      "source": [
        "#scaler = MinMaxScaler()\n",
        "\n",
        "#close_price = df.Close.values.reshape(-1, 1)\n",
        "\n",
        "#scaled_close = scaler.fit_transform(df)\n",
        "scaler = MinMaxScaler(feature_range=(0, 1))\n",
        "dataset = scaler.fit_transform(df)"
      ],
      "execution_count": null,
      "outputs": []
    },
    {
      "cell_type": "code",
      "metadata": {
        "id": "UprkaMWFvQOG",
        "colab": {
          "base_uri": "https://localhost:8080/"
        },
        "outputId": "2999fd76-51e9-44c1-b07d-fc73c1651c3b"
      },
      "source": [
        "dataset.shape"
      ],
      "execution_count": null,
      "outputs": [
        {
          "output_type": "execute_result",
          "data": {
            "text/plain": [
              "(1490, 6)"
            ]
          },
          "metadata": {
            "tags": []
          },
          "execution_count": 23
        }
      ]
    },
    {
      "cell_type": "code",
      "metadata": {
        "id": "qOg2HX9AuTk-",
        "colab": {
          "base_uri": "https://localhost:8080/"
        },
        "outputId": "0f784a60-2bd3-4200-dd62-685b00029780"
      },
      "source": [
        "#np.isnan(scaled_close).any()\n",
        "dataset"
      ],
      "execution_count": null,
      "outputs": [
        {
          "output_type": "execute_result",
          "data": {
            "text/plain": [
              "array([[0.0000000e+00, 5.5657700e-04, 2.1910295e-04, 6.8513118e-04,\n",
              "        9.9539792e-04, 5.7994574e-04],\n",
              "       [7.7849813e-04, 4.4831447e-04, 4.9420446e-04, 4.4369511e-04,\n",
              "        2.1192408e-04, 3.7546270e-04],\n",
              "       [5.3002499e-04, 2.9284135e-04, 6.1822496e-04, 5.4019876e-04,\n",
              "        9.0614485e-05, 4.6127476e-04],\n",
              "       ...,\n",
              "       [9.5942980e-01, 9.4502968e-01, 9.5668852e-01, 9.3746448e-01,\n",
              "        6.6128165e-01, 9.3759006e-01],\n",
              "       [9.8953927e-01, 9.4437695e-01, 9.4840771e-01, 9.4735074e-01,\n",
              "        6.1012584e-01, 9.4748753e-01],\n",
              "       [9.9999988e-01, 1.0000000e+00, 1.0000000e+00, 9.9999994e-01,\n",
              "        6.9138432e-01, 1.0000001e+00]], dtype=float32)"
            ]
          },
          "metadata": {
            "tags": []
          },
          "execution_count": 39
        }
      ]
    },
    {
      "cell_type": "code",
      "metadata": {
        "id": "evHUrll9ukht"
      },
      "source": [
        "#scaled_close = scaled_close[~np.isnan(scaled_close)]"
      ],
      "execution_count": null,
      "outputs": []
    },
    {
      "cell_type": "code",
      "metadata": {
        "id": "gCyOvwnqvTSw"
      },
      "source": [
        "#scaled_close = scaled_close.reshape(-1, 1)"
      ],
      "execution_count": null,
      "outputs": []
    },
    {
      "cell_type": "code",
      "metadata": {
        "id": "eSJxuT3-u6K2"
      },
      "source": [
        "#np.isnan(scaled_close).any()"
      ],
      "execution_count": null,
      "outputs": []
    },
    {
      "cell_type": "markdown",
      "metadata": {
        "id": "CQgrA2va4Jzx"
      },
      "source": [
        "# Preprocessing"
      ]
    },
    {
      "cell_type": "code",
      "metadata": {
        "id": "NS5O4-Vtq-N1"
      },
      "source": [
        "SEQ_LEN = 100\n",
        "\n",
        "def to_sequences(data, seq_len):\n",
        "    d = []\n",
        "\n",
        "    for index in range(len(data) - seq_len):\n",
        "        d.append(data[index: index + seq_len])\n",
        "\n",
        "    return np.array(d)\n",
        "\n",
        "def preprocess(data_raw, seq_len, train_split):\n",
        "\n",
        "    data = to_sequences(data_raw, seq_len)\n",
        "\n",
        "    num_train = int(train_split * data.shape[0])\n",
        "\n",
        "    X_train = data[:num_train, :-1, :]\n",
        "    y_train = data[:num_train, -1, :]\n",
        "\n",
        "    X_test = data[num_train:, :-1, :]\n",
        "    y_test = data[num_train:, -1, :]\n",
        "\n",
        "    return X_train, y_train, X_test, y_test\n",
        "\n",
        "\n",
        "X_train, y_train, X_test, y_test = preprocess(dataset, SEQ_LEN, train_split = 0.80)"
      ],
      "execution_count": null,
      "outputs": []
    },
    {
      "cell_type": "code",
      "metadata": {
        "id": "XNBTUeaXreni",
        "colab": {
          "base_uri": "https://localhost:8080/"
        },
        "outputId": "5ca86527-7e28-419b-88a3-c6bc8d95de85"
      },
      "source": [
        "X_train.shape"
      ],
      "execution_count": null,
      "outputs": [
        {
          "output_type": "execute_result",
          "data": {
            "text/plain": [
              "(1112, 99, 6)"
            ]
          },
          "metadata": {
            "tags": []
          },
          "execution_count": 27
        }
      ]
    },
    {
      "cell_type": "code",
      "metadata": {
        "id": "4IOoiN3pUUgO",
        "colab": {
          "base_uri": "https://localhost:8080/"
        },
        "outputId": "b079589b-3d39-47d9-c94e-78ccad77634d"
      },
      "source": [
        "X_test.shape"
      ],
      "execution_count": null,
      "outputs": [
        {
          "output_type": "execute_result",
          "data": {
            "text/plain": [
              "(278, 99, 6)"
            ]
          },
          "metadata": {
            "tags": []
          },
          "execution_count": 28
        }
      ]
    },
    {
      "cell_type": "code",
      "metadata": {
        "colab": {
          "base_uri": "https://localhost:8080/"
        },
        "id": "Z6o8k4dsPbuf",
        "outputId": "11eb723a-99c6-4607-8b09-6cf8e936047a"
      },
      "source": [
        "X_test"
      ],
      "execution_count": null,
      "outputs": [
        {
          "output_type": "execute_result",
          "data": {
            "text/plain": [
              "array([[[0.24509117, 0.23359905, 0.2363793 , 0.22947375, 0.34884942,\n",
              "         0.22579226],\n",
              "        [0.24249932, 0.23045124, 0.23806074, 0.2300428 , 0.30471095,\n",
              "         0.22637828],\n",
              "        [0.2429485 , 0.22921987, 0.23906118, 0.22905786, 0.25989133,\n",
              "         0.22545248],\n",
              "        ...,\n",
              "        [0.21347952, 0.21380714, 0.2126909 , 0.21280701, 0.6500158 ,\n",
              "         0.21186337],\n",
              "        [0.22483486, 0.21748061, 0.217421  , 0.21089336, 0.60100555,\n",
              "         0.21000223],\n",
              "        [0.22244596, 0.21190596, 0.21945156, 0.21215323, 0.475905  ,\n",
              "         0.21126208]],\n",
              "\n",
              "       [[0.24249932, 0.23045124, 0.23806074, 0.2300428 , 0.30471095,\n",
              "         0.22637828],\n",
              "        [0.2429485 , 0.22921987, 0.23906118, 0.22905786, 0.25989133,\n",
              "         0.22545248],\n",
              "        [0.24184334, 0.23968412, 0.24110714, 0.24046825, 0.31146806,\n",
              "         0.23656201],\n",
              "        ...,\n",
              "        [0.22483486, 0.21748061, 0.217421  , 0.21089336, 0.60100555,\n",
              "         0.21000223],\n",
              "        [0.22244596, 0.21190596, 0.21945156, 0.21215323, 0.475905  ,\n",
              "         0.21126208],\n",
              "        [0.22410822, 0.21397822, 0.21478161, 0.20337045, 0.46599722,\n",
              "         0.20267604]],\n",
              "\n",
              "       [[0.2429485 , 0.22921987, 0.23906118, 0.22905786, 0.25989133,\n",
              "         0.22545248],\n",
              "        [0.24184334, 0.23968412, 0.24110714, 0.24046825, 0.31146806,\n",
              "         0.23656201],\n",
              "        [0.2537862 , 0.24458791, 0.24708307, 0.23491459, 0.37485623,\n",
              "         0.23119432],\n",
              "        ...,\n",
              "        [0.22244596, 0.21190596, 0.21945156, 0.21215323, 0.475905  ,\n",
              "         0.21126208],\n",
              "        [0.22410822, 0.21397822, 0.21478161, 0.20337045, 0.46599722,\n",
              "         0.20267604],\n",
              "        [0.21463016, 0.20239443, 0.20167069, 0.19526532, 0.4700406 ,\n",
              "         0.1947505 ]],\n",
              "\n",
              "       ...,\n",
              "\n",
              "       [[0.38252762, 0.36804008, 0.38175607, 0.3680492 , 0.3064705 ,\n",
              "         0.36845994],\n",
              "        [0.38862178, 0.36668342, 0.37818053, 0.36249125, 0.33258715,\n",
              "         0.36296815],\n",
              "        [0.38257197, 0.36286515, 0.3618616 , 0.3455407 , 0.38906908,\n",
              "         0.34617978],\n",
              "        ...,\n",
              "        [0.8451317 , 0.81650656, 0.82778025, 0.81821257, 0.55364776,\n",
              "         0.8186266 ],\n",
              "        [0.8636777 , 0.84993535, 0.8535642 , 0.85128826, 0.56697565,\n",
              "         0.85161155],\n",
              "        [0.8991423 , 0.92121047, 0.8933644 , 0.91439754, 0.6515102 ,\n",
              "         0.9145159 ]],\n",
              "\n",
              "       [[0.38862178, 0.36668342, 0.37818053, 0.36249125, 0.33258715,\n",
              "         0.36296815],\n",
              "        [0.38257197, 0.36286515, 0.3618616 , 0.3455407 , 0.38906908,\n",
              "         0.34617978],\n",
              "        [0.36470488, 0.34794897, 0.36195442, 0.34825414, 0.31804338,\n",
              "         0.34888655],\n",
              "        ...,\n",
              "        [0.8636777 , 0.84993535, 0.8535642 , 0.85128826, 0.56697565,\n",
              "         0.85161155],\n",
              "        [0.8991423 , 0.92121047, 0.8933644 , 0.91439754, 0.6515102 ,\n",
              "         0.9145159 ],\n",
              "        [0.96538967, 0.9769666 , 0.94598246, 0.90853083, 0.8964026 ,\n",
              "         0.90871674]],\n",
              "\n",
              "       [[0.38257197, 0.36286515, 0.3618616 , 0.3455407 , 0.38906908,\n",
              "         0.34617978],\n",
              "        [0.36470488, 0.34794897, 0.36195442, 0.34825414, 0.31804338,\n",
              "         0.34888655],\n",
              "        [0.36755687, 0.3468752 , 0.3550066 , 0.33784652, 0.3202953 ,\n",
              "         0.33857492],\n",
              "        ...,\n",
              "        [0.8991423 , 0.92121047, 0.8933644 , 0.91439754, 0.6515102 ,\n",
              "         0.9145159 ],\n",
              "        [0.96538967, 0.9769666 , 0.94598246, 0.90853083, 0.8964026 ,\n",
              "         0.90871674],\n",
              "        [0.9594298 , 0.9450297 , 0.9566885 , 0.9374645 , 0.66128165,\n",
              "         0.93759006]]], dtype=float32)"
            ]
          },
          "metadata": {
            "tags": []
          },
          "execution_count": 29
        }
      ]
    },
    {
      "cell_type": "markdown",
      "metadata": {
        "id": "Yhhv26c34YTW"
      },
      "source": [
        "# Model"
      ]
    },
    {
      "cell_type": "code",
      "metadata": {
        "id": "a3dw5qTasJoy"
      },
      "source": [
        "DROPOUT = 0.2\n",
        "WINDOW_SIZE = SEQ_LEN - 1\n",
        "\n",
        "model = keras.Sequential()\n",
        "\n",
        "model.add(Bidirectional(CuDNNLSTM(WINDOW_SIZE, return_sequences=True),\n",
        "                        input_shape=(WINDOW_SIZE, X_train.shape[-1])))\n",
        "model.add(Dropout(rate=DROPOUT))\n",
        "\n",
        "model.add(Bidirectional(CuDNNLSTM((WINDOW_SIZE * 2), return_sequences=True)))\n",
        "model.add(Dropout(rate=DROPOUT))\n",
        "\n",
        "model.add(Bidirectional(CuDNNLSTM(WINDOW_SIZE, return_sequences=False)))\n",
        "\n",
        "model.add(Dense(units=1))\n",
        "\n",
        "model.add(Activation('linear'))"
      ],
      "execution_count": null,
      "outputs": []
    },
    {
      "cell_type": "code",
      "metadata": {
        "id": "Puy6_JhZehXX"
      },
      "source": [
        ""
      ],
      "execution_count": null,
      "outputs": []
    },
    {
      "cell_type": "code",
      "metadata": {
        "id": "ywBZPOSElsw0"
      },
      "source": [
        ""
      ],
      "execution_count": null,
      "outputs": []
    },
    {
      "cell_type": "markdown",
      "metadata": {
        "id": "pjBan-K27L8d"
      },
      "source": [
        "# Training"
      ]
    },
    {
      "cell_type": "code",
      "metadata": {
        "id": "zvc-LMgOHkWJ"
      },
      "source": [
        "model.compile(\n",
        "    loss='mean_squared_error', \n",
        "    optimizer='adam'\n",
        ")"
      ],
      "execution_count": null,
      "outputs": []
    },
    {
      "cell_type": "code",
      "metadata": {
        "id": "m1aU2xDvsvrN",
        "colab": {
          "base_uri": "https://localhost:8080/"
        },
        "outputId": "78f44b73-798e-4003-d32b-429bec4188c2"
      },
      "source": [
        "BATCH_SIZE = 64\n",
        "\n",
        "history = model.fit(\n",
        "    X_train, \n",
        "    y_train, \n",
        "    epochs=50, \n",
        "    batch_size=BATCH_SIZE, \n",
        "    shuffle=False,\n",
        "    validation_split=0.1\n",
        ")"
      ],
      "execution_count": null,
      "outputs": [
        {
          "output_type": "stream",
          "text": [
            "Epoch 1/50\n",
            "16/16 [==============================] - 30s 979ms/step - loss: 0.0211 - val_loss: 0.0218\n",
            "Epoch 2/50\n",
            "16/16 [==============================] - 1s 53ms/step - loss: 0.0100 - val_loss: 0.0088\n",
            "Epoch 3/50\n",
            "16/16 [==============================] - 1s 46ms/step - loss: 0.0041 - val_loss: 0.0083\n",
            "Epoch 4/50\n",
            "16/16 [==============================] - 1s 46ms/step - loss: 0.0051 - val_loss: 0.0094\n",
            "Epoch 5/50\n",
            "16/16 [==============================] - 1s 46ms/step - loss: 0.0039 - val_loss: 0.0088\n",
            "Epoch 6/50\n",
            "16/16 [==============================] - 1s 46ms/step - loss: 0.0035 - val_loss: 0.0097\n",
            "Epoch 7/50\n",
            "16/16 [==============================] - 1s 46ms/step - loss: 0.0038 - val_loss: 0.0096\n",
            "Epoch 8/50\n",
            "16/16 [==============================] - 1s 53ms/step - loss: 0.0052 - val_loss: 0.0147\n",
            "Epoch 9/50\n",
            "16/16 [==============================] - 1s 46ms/step - loss: 0.0053 - val_loss: 0.0181\n",
            "Epoch 10/50\n",
            "16/16 [==============================] - 1s 46ms/step - loss: 0.0064 - val_loss: 0.0131\n",
            "Epoch 11/50\n",
            "16/16 [==============================] - 1s 46ms/step - loss: 0.0045 - val_loss: 0.0094\n",
            "Epoch 12/50\n",
            "16/16 [==============================] - 1s 46ms/step - loss: 0.0040 - val_loss: 0.0088\n",
            "Epoch 13/50\n",
            "16/16 [==============================] - 1s 46ms/step - loss: 0.0064 - val_loss: 0.0082\n",
            "Epoch 14/50\n",
            "16/16 [==============================] - 1s 46ms/step - loss: 0.0050 - val_loss: 0.0088\n",
            "Epoch 15/50\n",
            "16/16 [==============================] - 1s 46ms/step - loss: 0.0038 - val_loss: 0.0093\n",
            "Epoch 16/50\n",
            "16/16 [==============================] - 1s 46ms/step - loss: 0.0062 - val_loss: 0.0102\n",
            "Epoch 17/50\n",
            "16/16 [==============================] - 1s 46ms/step - loss: 0.0049 - val_loss: 0.0090\n",
            "Epoch 18/50\n",
            "16/16 [==============================] - 1s 45ms/step - loss: 0.0034 - val_loss: 0.0093\n",
            "Epoch 19/50\n",
            "16/16 [==============================] - 1s 45ms/step - loss: 0.0056 - val_loss: 0.0080\n",
            "Epoch 20/50\n",
            "16/16 [==============================] - 1s 45ms/step - loss: 0.0041 - val_loss: 0.0083\n",
            "Epoch 21/50\n",
            "16/16 [==============================] - 1s 46ms/step - loss: 0.0039 - val_loss: 0.0086\n",
            "Epoch 22/50\n",
            "16/16 [==============================] - 1s 46ms/step - loss: 0.0047 - val_loss: 0.0082\n",
            "Epoch 23/50\n",
            "16/16 [==============================] - 1s 46ms/step - loss: 0.0034 - val_loss: 0.0083\n",
            "Epoch 24/50\n",
            "16/16 [==============================] - 1s 46ms/step - loss: 0.0045 - val_loss: 0.0084\n",
            "Epoch 25/50\n",
            "16/16 [==============================] - 1s 46ms/step - loss: 0.0036 - val_loss: 0.0083\n",
            "Epoch 26/50\n",
            "16/16 [==============================] - 1s 46ms/step - loss: 0.0038 - val_loss: 0.0081\n",
            "Epoch 27/50\n",
            "16/16 [==============================] - 1s 46ms/step - loss: 0.0040 - val_loss: 0.0079\n",
            "Epoch 28/50\n",
            "16/16 [==============================] - 1s 46ms/step - loss: 0.0033 - val_loss: 0.0080\n",
            "Epoch 29/50\n",
            "16/16 [==============================] - 1s 46ms/step - loss: 0.0034 - val_loss: 0.0087\n",
            "Epoch 30/50\n",
            "16/16 [==============================] - 1s 46ms/step - loss: 0.0032 - val_loss: 0.0079\n",
            "Epoch 31/50\n",
            "16/16 [==============================] - 1s 46ms/step - loss: 0.0035 - val_loss: 0.0079\n",
            "Epoch 32/50\n",
            "16/16 [==============================] - 1s 46ms/step - loss: 0.0034 - val_loss: 0.0079\n",
            "Epoch 33/50\n",
            "16/16 [==============================] - 1s 47ms/step - loss: 0.0034 - val_loss: 0.0083\n",
            "Epoch 34/50\n",
            "16/16 [==============================] - 1s 46ms/step - loss: 0.0035 - val_loss: 0.0078\n",
            "Epoch 35/50\n",
            "16/16 [==============================] - 1s 46ms/step - loss: 0.0035 - val_loss: 0.0083\n",
            "Epoch 36/50\n",
            "16/16 [==============================] - 1s 46ms/step - loss: 0.0034 - val_loss: 0.0079\n",
            "Epoch 37/50\n",
            "16/16 [==============================] - 1s 46ms/step - loss: 0.0036 - val_loss: 0.0080\n",
            "Epoch 38/50\n",
            "16/16 [==============================] - 1s 46ms/step - loss: 0.0035 - val_loss: 0.0078\n",
            "Epoch 39/50\n",
            "16/16 [==============================] - 1s 47ms/step - loss: 0.0033 - val_loss: 0.0080\n",
            "Epoch 40/50\n",
            "16/16 [==============================] - 1s 47ms/step - loss: 0.0034 - val_loss: 0.0078\n",
            "Epoch 41/50\n",
            "16/16 [==============================] - 1s 46ms/step - loss: 0.0032 - val_loss: 0.0079\n",
            "Epoch 42/50\n",
            "16/16 [==============================] - 1s 46ms/step - loss: 0.0031 - val_loss: 0.0078\n",
            "Epoch 43/50\n",
            "16/16 [==============================] - 1s 46ms/step - loss: 0.0032 - val_loss: 0.0079\n",
            "Epoch 44/50\n",
            "16/16 [==============================] - 1s 47ms/step - loss: 0.0032 - val_loss: 0.0079\n",
            "Epoch 45/50\n",
            "16/16 [==============================] - 1s 47ms/step - loss: 0.0035 - val_loss: 0.0081\n",
            "Epoch 46/50\n",
            "16/16 [==============================] - 1s 47ms/step - loss: 0.0032 - val_loss: 0.0080\n",
            "Epoch 47/50\n",
            "16/16 [==============================] - 1s 46ms/step - loss: 0.0031 - val_loss: 0.0081\n",
            "Epoch 48/50\n",
            "16/16 [==============================] - 1s 47ms/step - loss: 0.0039 - val_loss: 0.0079\n",
            "Epoch 49/50\n",
            "16/16 [==============================] - 1s 47ms/step - loss: 0.0036 - val_loss: 0.0080\n",
            "Epoch 50/50\n",
            "16/16 [==============================] - 1s 47ms/step - loss: 0.0032 - val_loss: 0.0081\n"
          ],
          "name": "stdout"
        }
      ]
    },
    {
      "cell_type": "code",
      "metadata": {
        "id": "L9JumIeP40xv",
        "colab": {
          "base_uri": "https://localhost:8080/"
        },
        "outputId": "028d2952-8186-48e0-c5eb-213836c3da0e"
      },
      "source": [
        "model.evaluate(X_test, y_test)"
      ],
      "execution_count": null,
      "outputs": [
        {
          "output_type": "stream",
          "text": [
            "9/9 [==============================] - 13s 710ms/step - loss: 0.0087\n"
          ],
          "name": "stdout"
        },
        {
          "output_type": "execute_result",
          "data": {
            "text/plain": [
              "0.008707123808562756"
            ]
          },
          "metadata": {
            "tags": []
          },
          "execution_count": 33
        }
      ]
    },
    {
      "cell_type": "code",
      "metadata": {
        "id": "2_9ibR1e5DnQ",
        "colab": {
          "base_uri": "https://localhost:8080/",
          "height": 295
        },
        "outputId": "c0c02c03-6b75-4b75-ae37-69e3ab83dc3c"
      },
      "source": [
        "plt.plot(history.history['loss'])\n",
        "plt.plot(history.history['val_loss'])\n",
        "plt.title('model loss')\n",
        "plt.ylabel('loss')\n",
        "plt.xlabel('epoch')\n",
        "plt.legend(['train', 'test'], loc='upper left')\n",
        "plt.show()"
      ],
      "execution_count": null,
      "outputs": [
        {
          "output_type": "display_data",
          "data": {
            "image/png": "[encoded data removed]",
            "text/plain": [
              "<Figure size 432x288 with 1 Axes>"
            ]
          },
          "metadata": {
            "tags": [],
            "needs_background": "light"
          }
        }
      ]
    },
    {
      "cell_type": "markdown",
      "metadata": {
        "id": "Xf9STH2D4_hP"
      },
      "source": [
        "# Prediction"
      ]
    },
    {
      "cell_type": "code",
      "metadata": {
        "id": "Lui1XTi0xVsF",
        "colab": {
          "base_uri": "https://localhost:8080/",
          "height": 374
        },
        "outputId": "356be714-5ec6-4ed1-ae8c-63f5281deaea"
      },
      "source": [
        "#scaler = MinMaxScaler()\n",
        "y_hat = model.predict(X_test)\n",
        "\n",
        "y_test_inverse = scaler.inverse_transform(y_test)\n",
        "y_hat_inverse = scaler.inverse_transform(y_hat)\n",
        " \n",
        "plt.plot(y_test_inverse, label=\"Actual Price\", color='green')\n",
        "plt.plot(y_hat_inverse, label=\"Predicted Price\", color='red')\n",
        " \n",
        "plt.title('Bitcoin price prediction')\n",
        "plt.xlabel('Time [days]')\n",
        "plt.ylabel('Price')\n",
        "plt.legend(loc='best')\n",
        " \n",
        "plt.show();"
      ],
      "execution_count": null,
      "outputs": [
        {
          "output_type": "error",
          "ename": "NotFittedError",
          "evalue": "ignored",
          "traceback": [
            "\u001b[0;31m---------------------------------------------------------------------------\u001b[0m",
            "\u001b[0;31mNotFittedError\u001b[0m                            Traceback (most recent call last)",
            "\u001b[0;32m<ipython-input-38-1c4c2005a0f4>\u001b[0m in \u001b[0;36m<module>\u001b[0;34m()\u001b[0m\n\u001b[1;32m      2\u001b[0m \u001b[0my_hat\u001b[0m \u001b[0;34m=\u001b[0m \u001b[0mmodel\u001b[0m\u001b[0;34m.\u001b[0m\u001b[0mpredict\u001b[0m\u001b[0;34m(\u001b[0m\u001b[0mX_test\u001b[0m\u001b[0;34m)\u001b[0m\u001b[0;34m\u001b[0m\u001b[0;34m\u001b[0m\u001b[0m\n\u001b[1;32m      3\u001b[0m \u001b[0;34m\u001b[0m\u001b[0m\n\u001b[0;32m----> 4\u001b[0;31m \u001b[0my_test_inverse\u001b[0m \u001b[0;34m=\u001b[0m \u001b[0mscaler\u001b[0m\u001b[0;34m.\u001b[0m\u001b[0minverse_transform\u001b[0m\u001b[0;34m(\u001b[0m\u001b[0my_test\u001b[0m\u001b[0;34m)\u001b[0m\u001b[0;34m\u001b[0m\u001b[0;34m\u001b[0m\u001b[0m\n\u001b[0m\u001b[1;32m      5\u001b[0m \u001b[0my_hat_inverse\u001b[0m \u001b[0;34m=\u001b[0m \u001b[0mscaler\u001b[0m\u001b[0;34m.\u001b[0m\u001b[0minverse_transform\u001b[0m\u001b[0;34m(\u001b[0m\u001b[0my_hat\u001b[0m\u001b[0;34m)\u001b[0m\u001b[0;34m\u001b[0m\u001b[0;34m\u001b[0m\u001b[0m\n\u001b[1;32m      6\u001b[0m \u001b[0;34m\u001b[0m\u001b[0m\n",
            "\u001b[0;32m/usr/local/lib/python3.6/dist-packages/sklearn/preprocessing/_data.py\u001b[0m in \u001b[0;36minverse_transform\u001b[0;34m(self, X)\u001b[0m\n\u001b[1;32m    429\u001b[0m             \u001b[0mTransformed\u001b[0m \u001b[0mdata\u001b[0m\u001b[0;34m.\u001b[0m\u001b[0;34m\u001b[0m\u001b[0;34m\u001b[0m\u001b[0m\n\u001b[1;32m    430\u001b[0m         \"\"\"\n\u001b[0;32m--> 431\u001b[0;31m         \u001b[0mcheck_is_fitted\u001b[0m\u001b[0;34m(\u001b[0m\u001b[0mself\u001b[0m\u001b[0;34m)\u001b[0m\u001b[0;34m\u001b[0m\u001b[0;34m\u001b[0m\u001b[0m\n\u001b[0m\u001b[1;32m    432\u001b[0m \u001b[0;34m\u001b[0m\u001b[0m\n\u001b[1;32m    433\u001b[0m         X = check_array(X, copy=self.copy, dtype=FLOAT_DTYPES,\n",
            "\u001b[0;32m/usr/local/lib/python3.6/dist-packages/sklearn/utils/validation.py\u001b[0m in \u001b[0;36mcheck_is_fitted\u001b[0;34m(estimator, attributes, msg, all_or_any)\u001b[0m\n\u001b[1;32m    965\u001b[0m \u001b[0;34m\u001b[0m\u001b[0m\n\u001b[1;32m    966\u001b[0m     \u001b[0;32mif\u001b[0m \u001b[0;32mnot\u001b[0m \u001b[0mattrs\u001b[0m\u001b[0;34m:\u001b[0m\u001b[0;34m\u001b[0m\u001b[0;34m\u001b[0m\u001b[0m\n\u001b[0;32m--> 967\u001b[0;31m         \u001b[0;32mraise\u001b[0m \u001b[0mNotFittedError\u001b[0m\u001b[0;34m(\u001b[0m\u001b[0mmsg\u001b[0m \u001b[0;34m%\u001b[0m \u001b[0;34m{\u001b[0m\u001b[0;34m'name'\u001b[0m\u001b[0;34m:\u001b[0m \u001b[0mtype\u001b[0m\u001b[0;34m(\u001b[0m\u001b[0mestimator\u001b[0m\u001b[0;34m)\u001b[0m\u001b[0;34m.\u001b[0m\u001b[0m__name__\u001b[0m\u001b[0;34m}\u001b[0m\u001b[0;34m)\u001b[0m\u001b[0;34m\u001b[0m\u001b[0;34m\u001b[0m\u001b[0m\n\u001b[0m\u001b[1;32m    968\u001b[0m \u001b[0;34m\u001b[0m\u001b[0m\n\u001b[1;32m    969\u001b[0m \u001b[0;34m\u001b[0m\u001b[0m\n",
            "\u001b[0;31mNotFittedError\u001b[0m: This MinMaxScaler instance is not fitted yet. Call 'fit' with appropriate arguments before using this estimator."
          ]
        }
      ]
    },
    {
      "cell_type": "code",
      "metadata": {
        "id": "xYbHriaHQyYM"
      },
      "source": [
        ""
      ],
      "execution_count": null,
      "outputs": []
    },
    {
      "cell_type": "code",
      "metadata": {
        "id": "l4cqyhjvE5El"
      },
      "source": [
        "y_hat_inverse"
      ],
      "execution_count": null,
      "outputs": []
    },
    {
      "cell_type": "code",
      "metadata": {
        "id": "4nCXZSGlejkG"
      },
      "source": [
        "y_test_inverse"
      ],
      "execution_count": null,
      "outputs": []
    },
    {
      "cell_type": "code",
      "metadata": {
        "id": "dOvwjNa_luvK"
      },
      "source": [
        "from fbprophet.plot import plot_plotly, plot_components_plotly\n",
        "plot_plotly(y_hat_inverse)"
      ],
      "execution_count": null,
      "outputs": []
    }
  ]
}